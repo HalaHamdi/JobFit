{
 "cells": [
  {
   "cell_type": "code",
   "execution_count": 1,
   "metadata": {},
   "outputs": [],
   "source": [
    "import os\n",
    "import json\n",
    "import numpy as np\n",
    "from tqdm import tqdm\n",
    "from pinecone import Pinecone \n",
    "from pinecone import ServerlessSpec\n",
    "from sentence_transformers import SentenceTransformer\n",
    "from sklearn.metrics.pairwise import cosine_similarity\n"
   ]
  },
  {
   "cell_type": "code",
   "execution_count": 2,
   "metadata": {},
   "outputs": [],
   "source": [
    "file_name=\"structured_resumes.json\"\n",
    "model_name = 'multi-qa-MiniLM-L6-cos-v1'\n",
    "pinecone_api_key=os.getenv(\"PINECONE_API_KEY\")\n",
    "index_name = \"job-fit-ai\"\n",
    "pc=Pinecone(api_key=pinecone_api_key)"
   ]
  },
  {
   "cell_type": "code",
   "execution_count": 3,
   "metadata": {},
   "outputs": [],
   "source": [
    "def cos_similar(a, b):\n",
    "    a=np.array(a).reshape(1, -1)\n",
    "    b=np.array(b).reshape(1, -1)\n",
    "    return cosine_similarity(a, b)[0][0]"
   ]
  },
  {
   "cell_type": "code",
   "execution_count": 4,
   "metadata": {},
   "outputs": [
    {
     "name": "stderr",
     "output_type": "stream",
     "text": [
      "c:\\Users\\hp\\AppData\\Local\\Programs\\Python\\Python311\\Lib\\site-packages\\transformers\\tokenization_utils_base.py:1601: FutureWarning: `clean_up_tokenization_spaces` was not set. It will be set to `True` by default. This behavior will be depracted in transformers v4.45, and will be then set to `False` by default. For more details check this issue: https://github.com/huggingface/transformers/issues/31884\n",
      "  warnings.warn(\n"
     ]
    },
    {
     "name": "stdout",
     "output_type": "stream",
     "text": [
      "Embedding length: 384\n"
     ]
    }
   ],
   "source": [
    "# The Embedding model is loaded\n",
    "model = SentenceTransformer(model_name)\n",
    "# Generate an embedding for any sample text\n",
    "sample_text = \"This is a test sentence.\"\n",
    "embedding = model.encode(sample_text)\n",
    "\n",
    "# Get the length of the embedding\n",
    "embedding_length = len(embedding)\n",
    "print(f\"Embedding length: {embedding_length}\")"
   ]
  },
  {
   "cell_type": "code",
   "execution_count": 5,
   "metadata": {},
   "outputs": [],
   "source": [
    "if not pc.has_index(index_name):\n",
    "    pc.create_index(\n",
    "        name=index_name,\n",
    "        dimension=embedding_length,\n",
    "        metric=\"cosine\",\n",
    "        spec=ServerlessSpec(\n",
    "                cloud=\"aws\",\n",
    "                region=\"us-east-1\"),\n",
    "        deletion_protection=\"disabled\"\n",
    ")\n",
    "index = pc.Index(index_name)"
   ]
  },
  {
   "cell_type": "code",
   "execution_count": 7,
   "metadata": {},
   "outputs": [
    {
     "name": "stderr",
     "output_type": "stream",
     "text": [
      "100%|██████████| 20/20 [00:01<00:00, 10.72it/s]\n"
     ]
    },
    {
     "data": {
      "text/plain": [
       "{'upserted_count': 20}"
      ]
     },
     "execution_count": 7,
     "metadata": {},
     "output_type": "execute_result"
    }
   ],
   "source": [
    "# read the dataset\n",
    "with open(file_name, 'r') as file:\n",
    "    data = json.load(file)\n",
    " \n",
    "vectors=[]\n",
    "for group_name, dict_values in tqdm(data.items()):\n",
    "    # Only concerned with the technical skills\n",
    "    resume= f\"education: {dict_values['education']}\\nexperience: {dict_values['experience']}\\nskills: {dict_values['skills']}\\ncourses: {dict_values['courses']}\\n\"\n",
    "    # embed the resume \n",
    "    resume_embedding = model.encode(resume)\n",
    "    vectors.append({\"id\": group_name, \"values\": resume_embedding})\n",
    "    \n",
    "index.upsert(vectors)"
   ]
  },
  {
   "cell_type": "code",
   "execution_count": 22,
   "metadata": {},
   "outputs": [],
   "source": [
    "# strong_fit_jd=\"Tech Innovators Inc. is seeking a talented and experienced Senior Front-End Developer to join our dynamic team. The ideal candidate will have a robust background in front-end development with a focus on creating user-friendly, responsive websites and applications. Responsibilities include developing and maintaining high-quality, scalable web applications using HTML5, React.js, and GraphQL, collaborating with design and backend teams to implement modern UI/UX designs and features, optimizing applications for maximum speed and scalability using tools such as Yarn and Gulp, and utilizing version control systems like GitHub for code management and collaboration. The candidate should have a Bachelor of Science in Computer Science or a related field, with 5+ years of professional experience in front-end development, including recent experience at companies like Expedia Group or Zillow. Proficiency in HTML5, React.js, GitHub, Yarn, Gulp, Joomla, Mocha, and GraphQL is required. Strong understanding of responsive design principles and front-end frameworks is needed, along with excellent problem-solving skills and the ability to work collaboratively in a team environment. Experience with Bootstrap and Visual Studio Code is highly desirable. Preferred qualifications include experience with content management systems (CMS) like Joomla and familiarity with Agile development methodologies.\"\n",
    "# worst_fit_jd= \"Future Insights LLC is looking for a skilled Data Scientist to analyze and interpret complex data to help drive business decisions. The successful candidate will use advanced analytical techniques and machine learning algorithms to uncover insights and trends from large datasets. Responsibilities include developing and implementing machine learning models and data-driven solutions to solve business problems, analyzing complex data sets using statistical methods and data visualization tools, collaborating with cross-functional teams to understand business needs and provide actionable insights, and preparing detailed reports and presentations to communicate findings to stakeholders. The candidate should have a Bachelor of Science in Computer Science, Mathematics, Statistics, or a related field, with 3+ years of experience in data science, a strong background in machine learning, statistical analysis, and data visualization. Proficiency in programming languages such as Python or R, and tools such as TensorFlow or PyTorch is required, along with experience with SQL databases and data manipulation. Strong analytical and problem-solving skills are essential. Preferred qualifications include an advanced degree in a related field and experience in a similar role at technology companies.\""
   ]
  }
 ],
 "metadata": {
  "kernelspec": {
   "display_name": "Python 3",
   "language": "python",
   "name": "python3"
  },
  "language_info": {
   "codemirror_mode": {
    "name": "ipython",
    "version": 3
   },
   "file_extension": ".py",
   "mimetype": "text/x-python",
   "name": "python",
   "nbconvert_exporter": "python",
   "pygments_lexer": "ipython3",
   "version": "3.11.1"
  }
 },
 "nbformat": 4,
 "nbformat_minor": 2
}
