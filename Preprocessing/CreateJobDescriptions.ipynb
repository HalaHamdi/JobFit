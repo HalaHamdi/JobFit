{
 "cells": [
  {
   "cell_type": "code",
   "execution_count": 1,
   "metadata": {},
   "outputs": [],
   "source": [
    "IBM_Junior_Machine_Learning_Engineer=\"\"\"Required Technical and Professional Expertise\n",
    "\n",
    "\n",
    "Bachelor's degree in Computer Science, Statistics, Mathematics, or a related field.\n",
    "Strong programming skills in Python and proficiency in relevant libraries (NumPy, Pandas, Scikit-learn).\n",
    "Understanding of machine learning concepts and algorithms (linear regression, logistic regression, decision trees, random forests, etc.).\n",
    "Ability to work with large datasets and perform data analysis.\n",
    "Strong problem-solving and analytical skills.\n",
    "Excellent communication and teamwork abilities.\n",
    "A passion for learning and exploring new technologies.\n",
    "\n",
    "\n",
    "Preferred Technical And Professional Expertise\n",
    "\n",
    "\n",
    "Experience with deep learning frameworks (TensorFlow, PyTorch).\n",
    "Knowledge of cloud platforms (AWS, Azure).\n",
    "Exposure to big data technologies (Hadoop, Spark).\n",
    "Participation in machine learning competitions or projects.\n",
    "\"\"\""
   ]
  },
  {
   "cell_type": "code",
   "execution_count": null,
   "metadata": {},
   "outputs": [],
   "source": [
    "RobustaStudio_Devops_Engineer=\n",
    "\n",
    "\n",
    "\n",
    "\"\"\"Requirements\n",
    "\n",
    "What we need from you\n",
    "\n",
    "Bachelor's degree in Computer Science, Information Technology, or related field\n",
    "Proven experience as a Software Engineer or DevOps Engineer\n",
    "Strong knowledge of Linux system administration\n",
    "Hands-on experience creating and managing bare-metal Kubernetes clusters\n",
    "Familiarity with Docker containerization\n",
    "Basic understanding of Helm charts\n",
    "Proficiency in scripting (e.g., Bash, Python) and infrastructure as code tools (e.g., Terraform, Ansible)\n",
    "Experience with CI/CD pipelines and related tools (e.g., Jenkins, GitLab CI)\n",
    "Knowledge of cloud platforms, particularly AWS, is a plus\n",
    "Strong problem-solving skills and a commitment to automation and efficiency\n",
    "Excellent communication and collaboration skills\n",
    "\"\"\""
   ]
  },
  {
   "cell_type": "code",
   "execution_count": 3,
   "metadata": {},
   "outputs": [],
   "source": [
    "qTech_Senior_Frontend_Developer=\"\"\"\n",
    "\n",
    "Experience with Design Thinking Methodology.\n",
    "Experience with Agile development methodology.\n",
    "Excellent troubleshooting skills including multi-browser compatibility issues.\n",
    "Excellent communication.\n",
    "3+ years of experience in front-end development. \n",
    "Bachelor's degree in computer science, Information Technology, or a related field. \n",
    "Proficient in JavaScript, HTML5, CSS3, and modern frontend frameworks such as React or Angular. \n",
    "Experience with version control systems, particularly Git\n",
    "Strong communication skills and the ability to work collaboratively. \n",
    "Problem-solving skills and attention to detail. \n",
    "\n",
    "\"\"\""
   ]
  },
  {
   "cell_type": "code",
   "execution_count": 4,
   "metadata": {},
   "outputs": [],
   "source": [
    "Dirac_Systems_Java_Developer=\"\"\"BS/MS degree in Computer Science, Engineering or a related subject\n",
    "1 to 3 years working experience in software development experience in Java SE, Java EE \n",
    "1 to 2  years working experience in Oracle Database SQL and PL/SQL\n",
    "Hands on experience in designing and developing applications using Java EE platforms\n",
    "Object Oriented analysis and design using common design patterns.\n",
    "Profound insight of Java and JEE internals (Classloading, Memory Management, Transaction management etc)\n",
    "Excellent knowledge of Relational Databases, SQL and ORM technologies (JPA2, Hibernate)\n",
    "Experience in the Spring Framework\n",
    "Sun Certified Java Developer\n",
    "Experience in developing web applications using at least one popular web framework (JSF, Wicket, GWT, Spring MVC)\n",
    "Experience with test-driven development\n",
    "Experience in reports generation (Jasper Reports)\n",
    "Knowledge of concurrency patterns & multi-threading in Java\n",
    "Solid understanding of object-oriented programming\n",
    "Implementing automated testing platforms and unit tests\n",
    "Proficient understanding of code versioning tools, such as Git\n",
    "Familiarity with build tools such as Ant, Maven\n",
    "Spring , Rest API’s\n",
    "Willingness to learn new technologies\"\"\""
   ]
  },
  {
   "cell_type": "code",
   "execution_count": 5,
   "metadata": {},
   "outputs": [],
   "source": [
    "Coto_QA_Test_Engineer=\"\"\"\n",
    "\n",
    "Requirements:\n",
    "\n",
    "Bachelor’s degree in Computer Science, Engineering, or a related field (or equivalent experience).\n",
    "Proven experience as a QA Tester specifically focused on mobile applications and front-end automation.\n",
    "Solid understanding of QA methodologies, tools, and processes.\n",
    "Experience with automated testing tools/frameworks (e.g., Selenium, Appium, XCTest, Espresso).\n",
    "Experience in using tools like datadog will be advantage\n",
    "Strong analytical and troubleshooting skills with the ability to communicate effectively with technical and non-technical stakeholders.\n",
    "Detail-oriented with a passion for quality and continuous improvement.\n",
    "Preferred Qualifications:\n",
    "\n",
    "Experience working in an Agile/Scrum development environment.\n",
    "Familiarity with continuous integration/delivery pipelines.\n",
    "Knowledge of mobile app security testing practices.\n",
    "ISTQB or other relevant certifications.\n",
    "\n",
    "\"\"\""
   ]
  },
  {
   "cell_type": "code",
   "execution_count": 6,
   "metadata": {},
   "outputs": [],
   "source": [
    "Elmira_Trading_UIUIDesigner=\"\"\"Proven experience as a Graphic Designer and UI/UX Designer (portfolio required).\n",
    "Proficiency in design tools like Adobe Creative Suite (Photoshop, Illustrator, InDesign) and UI/UX tools like Figma, Sketch, or Adobe XD.\n",
    "Strong understanding of visual elements (layout, typography, color theory) as well as UX principles (user flow, interaction design).\n",
    "Experience in creating wireframes, mockups, and prototypes.\n",
    "Knowledge of front-end technologies (HTML, CSS, JavaScript) is a plus but not required.\n",
    "Ability to balance aesthetics with usability and accessibility.\n",
    "Strong communication skills and the ability to work collaboratively with cross-functional teams.\"\"\""
   ]
  },
  {
   "cell_type": "code",
   "execution_count": 7,
   "metadata": {},
   "outputs": [],
   "source": [
    "import json\n",
    "import re\n",
    "import os\n",
    "\n",
    "# Function to replace multiple newlines with a single newline\n",
    "def replace_newlines(text):\n",
    "    return re.sub(r'\\n+', '\\n', text)\n",
    "\n",
    "# Function to add a new string to the JSON file\n",
    "def add_string_to_json(new_data, filename='../DataSet/job_descriptions.json', overwrite=False):\n",
    "    if overwrite or not os.path.exists(filename):\n",
    "        # If overwrite is True or the file does not exist, create a new file with the new data\n",
    "        with open(filename, 'w') as file:\n",
    "            json.dump(new_data, file, indent=4)\n",
    "    else:\n",
    "        # If the file exists and overwrite is False, append the new data\n",
    "        with open(filename, 'r+') as file:\n",
    "            # Load existing data into a dictionary\n",
    "            file_data = json.load(file)\n",
    "            # Update the dictionary with the new data\n",
    "            file_data.update(new_data)\n",
    "            # Move the file pointer to the beginning of the file\n",
    "            file.seek(0)\n",
    "            # Write the updated dictionary back to the file\n",
    "            json.dump(file_data, file, indent=4)"
   ]
  },
  {
   "cell_type": "code",
   "execution_count": 10,
   "metadata": {},
   "outputs": [],
   "source": [
    "add_string_to_json({\"DataScience\":replace_newlines(IBM_Junior_Machine_Learning_Engineer)}, overwrite=True)\n",
    "add_string_to_json({\"Devops\":replace_newlines(RobustaStudio_Devops_Engineer)})\n",
    "add_string_to_json({\"Frontend\":replace_newlines(qTech_Senior_Frontend_Developer)})\n",
    "add_string_to_json({\"JavaDeveloper\":replace_newlines(Dirac_Systems_Java_Developer)})\n",
    "add_string_to_json({\"Testing\":replace_newlines(Coto_QA_Test_Engineer)})\n",
    "add_string_to_json({\"UIUX\":replace_newlines(Elmira_Trading_UIUIDesigner)})\n"
   ]
  }
 ],
 "metadata": {
  "kernelspec": {
   "display_name": "Python 3",
   "language": "python",
   "name": "python3"
  },
  "language_info": {
   "codemirror_mode": {
    "name": "ipython",
    "version": 3
   },
   "file_extension": ".py",
   "mimetype": "text/x-python",
   "name": "python",
   "nbconvert_exporter": "python",
   "pygments_lexer": "ipython3",
   "version": "3.11.1"
  }
 },
 "nbformat": 4,
 "nbformat_minor": 2
}
