{
 "cells": [
  {
   "cell_type": "code",
   "execution_count": 10,
   "metadata": {},
   "outputs": [],
   "source": [
    "from StructureResumes import *"
   ]
  },
  {
   "cell_type": "code",
   "execution_count": 27,
   "metadata": {},
   "outputs": [],
   "source": [
    "directory_path=\"../DataSet/Resumes\"\n",
    "processed_file_path = \"processed_resumes.txt\"\n",
    "json_file_path = \"../DataSet/structured_resumes.json\""
   ]
  },
  {
   "cell_type": "code",
   "execution_count": 28,
   "metadata": {},
   "outputs": [
    {
     "name": "stderr",
     "output_type": "stream",
     "text": [
      "  0%|          | 0/30 [00:00<?, ?it/s]"
     ]
    },
    {
     "name": "stdout",
     "output_type": "stream",
     "text": [
      "Skipping DataScience-1 as it has already been processed\n",
      "Skipping DataScience-2 as it has already been processed\n",
      "Skipping DataScience-3 as it has already been processed\n",
      "Skipping DataScience-4 as it has already been processed\n",
      "Skipping DataScience-5 as it has already been processed\n",
      "Skipping Devops-1 as it has already been processed\n",
      "Skipping Devops-2 as it has already been processed\n",
      "Skipping Devops-3 as it has already been processed\n",
      "Skipping Devops-4 as it has already been processed\n",
      "Skipping Devops-5 as it has already been processed\n",
      "Skipping Frontend-1 as it has already been processed\n",
      "Skipping Frontend-2 as it has already been processed\n",
      "Skipping Frontend-3 as it has already been processed\n",
      "Skipping Frontend-4 as it has already been processed\n",
      "Skipping Frontend-5 as it has already been processed\n",
      "Skipping JavaDeveloper-1 as it has already been processed\n",
      "Skipping JavaDeveloper-2 as it has already been processed\n",
      "Skipping JavaDeveloper-3 as it has already been processed\n",
      "Read JavaDeveloper-4.pdf\n"
     ]
    },
    {
     "name": "stderr",
     "output_type": "stream",
     "text": [
      "100%|██████████| 30/30 [00:03<00:00,  7.55it/s]"
     ]
    },
    {
     "name": "stdout",
     "output_type": "stream",
     "text": [
      "Completed OpenAi for JavaDeveloper-4.pdf\n",
      "For file JavaDeveloper-4.pdf, the finish reason is stop\n",
      "Skipping JavaDeveloper-5 as it has already been processed\n",
      "Skipping Testing-1 as it has already been processed\n",
      "Skipping Testing-2 as it has already been processed\n",
      "Skipping Testing-3 as it has already been processed\n",
      "Skipping Testing-4 as it has already been processed\n",
      "Skipping Testing-5 as it has already been processed\n",
      "Skipping UIUX-1 as it has already been processed\n",
      "Skipping UIUX-2 as it has already been processed\n",
      "Skipping UIUX-3 as it has already been processed\n",
      "Skipping UIUX-4 as it has already been processed\n",
      "Skipping UIUX-5 as it has already been processed\n"
     ]
    },
    {
     "name": "stderr",
     "output_type": "stream",
     "text": [
      "\n"
     ]
    }
   ],
   "source": [
    "structure_resumes(directory_path, processed_file_path, json_file_path)"
   ]
  }
 ],
 "metadata": {
  "kernelspec": {
   "display_name": "Python 3",
   "language": "python",
   "name": "python3"
  },
  "language_info": {
   "codemirror_mode": {
    "name": "ipython",
    "version": 3
   },
   "file_extension": ".py",
   "mimetype": "text/x-python",
   "name": "python",
   "nbconvert_exporter": "python",
   "pygments_lexer": "ipython3",
   "version": "3.11.1"
  }
 },
 "nbformat": 4,
 "nbformat_minor": 2
}
